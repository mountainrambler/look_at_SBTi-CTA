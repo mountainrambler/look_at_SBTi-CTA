{
 "cells": [
  {
   "cell_type": "code",
   "execution_count": null,
   "metadata": {},
   "outputs": [],
   "source": []
  },
  {
   "attachments": {},
   "cell_type": "markdown",
   "metadata": {},
   "source": [
    "## First we need to install some modules that are needed.\n",
    "Note: all cells are run with ctrl-return."
   ]
  },
  {
   "cell_type": "code",
   "execution_count": 65,
   "metadata": {},
   "outputs": [
    {
     "ename": "ImportError",
     "evalue": "cannot import name 'CTA' from 'main.get_cta' (/home/mountainrambler/SBTi/look_at_SBTi-CTA/main/get_cta.py)",
     "output_type": "error",
     "traceback": [
      "\u001b[0;31m---------------------------------------------------------------------------\u001b[0m",
      "\u001b[0;31mImportError\u001b[0m                               Traceback (most recent call last)",
      "\u001b[0;32m/tmp/ipykernel_970/3946013247.py\u001b[0m in \u001b[0;36m<module>\u001b[0;34m\u001b[0m\n\u001b[1;32m      2\u001b[0m \u001b[0;34m\u001b[0m\u001b[0m\n\u001b[1;32m      3\u001b[0m \u001b[0;32mimport\u001b[0m \u001b[0mmain\u001b[0m\u001b[0;34m\u001b[0m\u001b[0;34m\u001b[0m\u001b[0m\n\u001b[0;32m----> 4\u001b[0;31m \u001b[0;32mfrom\u001b[0m \u001b[0mmain\u001b[0m\u001b[0;34m.\u001b[0m\u001b[0mget_cta\u001b[0m \u001b[0;32mimport\u001b[0m \u001b[0mCTA\u001b[0m\u001b[0;34m\u001b[0m\u001b[0;34m\u001b[0m\u001b[0m\n\u001b[0m\u001b[1;32m      5\u001b[0m \u001b[0mCTA_URL\u001b[0m \u001b[0;34m=\u001b[0m \u001b[0;34m\"https://sciencebasedtargets.org/download/excel\"\u001b[0m\u001b[0;34m\u001b[0m\u001b[0;34m\u001b[0m\u001b[0m\n\u001b[1;32m      6\u001b[0m \u001b[0;34m\u001b[0m\u001b[0m\n",
      "\u001b[0;31mImportError\u001b[0m: cannot import name 'CTA' from 'main.get_cta' (/home/mountainrambler/SBTi/look_at_SBTi-CTA/main/get_cta.py)"
     ]
    }
   ],
   "source": [
    "#!pip3 install git+https://github.com/mountainrambler/look_at_SBTi-CTA.git@main\n",
    "\n",
    "import main\n",
    "from main.get_cta import CTA\n",
    "CTA_URL = \"https://sciencebasedtargets.org/download/excel\"\n",
    "\n",
    "cta = CTA(CTA_URL)"
   ]
  },
  {
   "attachments": {},
   "cell_type": "markdown",
   "metadata": {},
   "source": [
    "# Now we can fetch the CTA file from SBTi\n",
    "## and put the info in a dataframe"
   ]
  },
  {
   "attachments": {},
   "cell_type": "markdown",
   "metadata": {},
   "source": [
    "## Next we want to extract some numbers from the CTA file"
   ]
  },
  {
   "cell_type": "code",
   "execution_count": null,
   "metadata": {},
   "outputs": [],
   "source": [
    "# Get some numbers\n",
    "# Total number of companies\n",
    "tot_companies = cta_df.shape[0]\n",
    "tot_swe = cta_swe.shape[0]\n",
    "\n",
    "# Data on near term (nt) targets\n",
    "tot_valid_nt = cta_df.loc[cta_df['Near term - Target Status'] == 'Targets Set'].shape[0]\n",
    "swe_valid_nt = cta_swe.loc[cta_swe['Near term - Target Status'] == 'Targets Set'].shape[0]\n",
    "# committed companies\n",
    "tot_commit = tot_companies - tot_valid_nt\n",
    "swe_commit = tot_swe - swe_valid_nt"
   ]
  },
  {
   "cell_type": "code",
   "execution_count": null,
   "metadata": {},
   "outputs": [],
   "source": [
    "sample = cta_swe[['Company Name', 'Date']].copy()"
   ]
  },
  {
   "cell_type": "code",
   "execution_count": null,
   "metadata": {},
   "outputs": [],
   "source": [
    "sample.sort_values(by='Date', inplace=True)"
   ]
  },
  {
   "cell_type": "code",
   "execution_count": null,
   "metadata": {},
   "outputs": [],
   "source": [
    "sample.reset_index(inplace=True)"
   ]
  },
  {
   "cell_type": "code",
   "execution_count": null,
   "metadata": {},
   "outputs": [],
   "source": [
    "from datetime import datetime"
   ]
  },
  {
   "cell_type": "code",
   "execution_count": null,
   "metadata": {},
   "outputs": [],
   "source": [
    "sample['Date'] = sample['Date'].apply(lambda x: datetime.strptime(x, '%d/%m/%Y'))"
   ]
  },
  {
   "cell_type": "code",
   "execution_count": null,
   "metadata": {},
   "outputs": [],
   "source": [
    "import matplotlib.pyplot as plt\n",
    "\n",
    "def plot_companies_vs_date(df):\n",
    "    df.sort_values(by='Date', inplace=True)\n",
    "    # Create a new column that counts the number of unique companies up to each date\n",
    "    df['cumulative_companies'] = df.groupby('Date')['Company Name'].transform('nunique').cumsum()\n",
    "\n",
    "    # Sort the dataframe by date\n",
    "    df.sort_values('Date', inplace=True)\n",
    "\n",
    "    # Plot the cumulative number of companies over time\n",
    "    plt.plot(df['Date'], df['cumulative_companies'])\n",
    "    plt.xlabel('Date')\n",
    "    plt.ylabel('Cumulative Number of Companies')\n",
    "    plt.show()\n"
   ]
  },
  {
   "cell_type": "code",
   "execution_count": null,
   "metadata": {},
   "outputs": [],
   "source": [
    "plt.plot(sample['Date'])"
   ]
  },
  {
   "cell_type": "code",
   "execution_count": null,
   "metadata": {},
   "outputs": [],
   "source": [
    "sample"
   ]
  },
  {
   "cell_type": "code",
   "execution_count": null,
   "metadata": {},
   "outputs": [],
   "source": [
    "\n",
    "def plot_num_companies_per_year(df):\n",
    "    # Create a new column with the year of registration\n",
    "    df['year'] = df['Date'].dt.year\n",
    "\n",
    "    # Group by year and count the number of companies\n",
    "    year_counts = df.groupby('year')['Company Name'].count()\n",
    "    ax = year_counts.plot.bar()\n",
    "    \n",
    "    # Add the value on top of each bar\n",
    "    for p in ax.patches:\n",
    "        ax.annotate(str(p.get_height()), (p.get_x() * 1.005, p.get_height() * 1.005))\n",
    "    # Plot the year counts as a bar chart\n",
    "    # year_counts.plot.bar()\n",
    "    plt.xlabel('Year')\n",
    "    plt.ylabel('Number of Companies')\n",
    "    plt.title(f'Number of Companies Registered per Year, total is {year_counts.sum()}')\n",
    "\n",
    "\n",
    "    plt.show()\n"
   ]
  },
  {
   "cell_type": "code",
   "execution_count": null,
   "metadata": {},
   "outputs": [],
   "source": [
    "plot_num_companies_per_year(sample)"
   ]
  }
 ],
 "metadata": {
  "kernelspec": {
   "display_name": "Python 3",
   "language": "python",
   "name": "python3"
  },
  "language_info": {
   "codemirror_mode": {
    "name": "ipython",
    "version": 3
   },
   "file_extension": ".py",
   "mimetype": "text/x-python",
   "name": "python",
   "nbconvert_exporter": "python",
   "pygments_lexer": "ipython3",
   "version": "3.10.6"
  },
  "orig_nbformat": 4,
  "vscode": {
   "interpreter": {
    "hash": "31f2aee4e71d21fbe5cf8b01ff0e069b9275f58929596ceb00d14d90e3e16cd6"
   }
  }
 },
 "nbformat": 4,
 "nbformat_minor": 2
}
