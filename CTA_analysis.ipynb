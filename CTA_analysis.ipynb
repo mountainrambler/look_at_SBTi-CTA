{
 "cells": [
  {
   "cell_type": "code",
   "execution_count": null,
   "metadata": {},
   "outputs": [],
   "source": []
  },
  {
   "attachments": {},
   "cell_type": "markdown",
   "metadata": {},
   "source": [
    "## First we need to install some modules that are needed.\n",
    "Note: all cells are run with ctrl-return."
   ]
  },
  {
   "cell_type": "code",
   "execution_count": 1,
   "metadata": {},
   "outputs": [],
   "source": [
    "import requests\n",
    "import pandas as pd"
   ]
  },
  {
   "attachments": {},
   "cell_type": "markdown",
   "metadata": {},
   "source": [
    "# Now we can fetch the CTA file from SBTi\n",
    "## and put the info in a dataframe"
   ]
  },
  {
   "cell_type": "code",
   "execution_count": 2,
   "metadata": {},
   "outputs": [
    {
     "name": "stdout",
     "output_type": "stream",
     "text": [
      "File ok\n"
     ]
    }
   ],
   "source": [
    "CTA_URL = \"https://sciencebasedtargets.org/download/excel\"\n",
    "\n",
    "resp = requests.get(CTA_URL)\n",
    "cta_file = resp.content\n",
    "if not resp.status_code == 200:\n",
    "    print(\"Something went wrong when fetching the file, try again later\")\n",
    "else:\n",
    "    print(\"File ok\")\n",
    "\n",
    "# Make a dataframe from the excel file\n",
    "cta_df = pd.read_excel(cta_file)\n",
    "# Get the Swedish companies\n",
    "cta_swe = cta_df.loc[cta_df['Location'] == 'Sweden'] \n"
   ]
  },
  {
   "attachments": {},
   "cell_type": "markdown",
   "metadata": {},
   "source": [
    "## Next we want to extract some numbers from the CTA file"
   ]
  },
  {
   "cell_type": "code",
   "execution_count": null,
   "metadata": {},
   "outputs": [],
   "source": [
    "# Get some numbers\n",
    "# Total number of companies\n",
    "tot_companies = cta_df.shape[0]\n",
    "tot_swe = cta_swe.shape[0]\n",
    "\n",
    "# Data on near term (nt) targets\n",
    "tot_valid_nt = cta_df.loc[cta_df['Near term - Target Status'] == 'Targets Set'].shape[0]\n",
    "swe_valid_nt = cta_swe.loc[cta_swe['Near term - Target Status'] == 'Targets Set'].shape[0]\n",
    "# committed companies\n",
    "tot_commit = tot_companies - tot_valid_nt\n",
    "swe_commit = tot_swe - swe_valid_nt"
   ]
  }
 ],
 "metadata": {
  "kernelspec": {
   "display_name": "Python 3",
   "language": "python",
   "name": "python3"
  },
  "language_info": {
   "codemirror_mode": {
    "name": "ipython",
    "version": 3
   },
   "file_extension": ".py",
   "mimetype": "text/x-python",
   "name": "python",
   "nbconvert_exporter": "python",
   "pygments_lexer": "ipython3",
   "version": "3.10.6"
  },
  "orig_nbformat": 4,
  "vscode": {
   "interpreter": {
    "hash": "31f2aee4e71d21fbe5cf8b01ff0e069b9275f58929596ceb00d14d90e3e16cd6"
   }
  }
 },
 "nbformat": 4,
 "nbformat_minor": 2
}
